{
 "cells": [
  {
   "cell_type": "code",
   "execution_count": 53,
   "metadata": {},
   "outputs": [
    {
     "name": "stdout",
     "output_type": "stream",
     "text": [
      "Requirement already satisfied: scikit-build in /dune/dune-common/build-cmake/dune-env/lib/python3.10/site-packages (0.16.7)\n",
      "Requirement already satisfied: setuptools>=42.0.0 in /dune/dune-common/build-cmake/dune-env/lib/python3.10/site-packages (from scikit-build) (67.4.0)\n",
      "Requirement already satisfied: packaging in /dune/dune-common/build-cmake/dune-env/lib/python3.10/site-packages (from scikit-build) (23.0)\n",
      "Requirement already satisfied: distro in /dune/dune-common/build-cmake/dune-env/lib/python3.10/site-packages (from scikit-build) (1.8.0)\n",
      "Requirement already satisfied: wheel>=0.32.0 in /dune/dune-common/build-cmake/dune-env/lib/python3.10/site-packages (from scikit-build) (0.38.4)\n",
      "Using pip 23.0.1 from /dune/dune-common/build-cmake/dune-env/lib/python3.10/site-packages/pip (python 3.10)\n",
      "Requirement already satisfied: pyikarus in /dune/dune-common/build-cmake/dune-env/lib/python3.10/site-packages (0.3.0.dev202310000046)\n",
      "Requirement already satisfied: numpy in /dune/dune-common/build-cmake/dune-env/lib/python3.10/site-packages (from pyikarus) (1.24.2)\n",
      "Requirement already satisfied: dune-istl<=2.9.0 in /dune/dune-istl/build-cmake/python (from pyikarus) (2.9.0)\n",
      "Requirement already satisfied: scipy in /dune/dune-common/build-cmake/dune-env/lib/python3.10/site-packages (from pyikarus) (1.10.1)\n",
      "Requirement already satisfied: dune-grid<=2.9.0 in /dune/dune-grid/build-cmake/python (from pyikarus) (2.9.0)\n",
      "Requirement already satisfied: dune-geometry<=2.9.0 in /dune/dune-geometry/build-cmake/python (from pyikarus) (2.9.0)\n",
      "Requirement already satisfied: dune-functions<=2.9.0 in /dune/dune-functions/build-cmake/python (from pyikarus) (2.9.0)\n",
      "Requirement already satisfied: matplotlib in /dune/dune-common/build-cmake/dune-env/lib/python3.10/site-packages (from pyikarus) (3.7.1)\n",
      "Requirement already satisfied: dune-common<=2.9.0 in /dune/dune-common/build-cmake/dune-env/lib/python3.10/site-packages (from pyikarus) (2.9.0)\n",
      "Requirement already satisfied: jinja2 in /dune/dune-common/build-cmake/dune-env/lib/python3.10/site-packages (from dune-common<=2.9.0->pyikarus) (3.1.2)\n",
      "Requirement already satisfied: mpi4py in /dune/dune-common/build-cmake/dune-env/lib/python3.10/site-packages (from dune-common<=2.9.0->pyikarus) (3.1.4)\n",
      "Requirement already satisfied: portalocker in /dune/dune-common/build-cmake/dune-env/lib/python3.10/site-packages (from dune-common<=2.9.0->pyikarus) (2.7.0)\n",
      "Requirement already satisfied: wheel in /dune/dune-common/build-cmake/dune-env/lib/python3.10/site-packages (from dune-common<=2.9.0->pyikarus) (0.38.4)\n",
      "Requirement already satisfied: setuptools>=41 in /dune/dune-common/build-cmake/dune-env/lib/python3.10/site-packages (from dune-common<=2.9.0->pyikarus) (67.4.0)\n",
      "Requirement already satisfied: pip>=21.a in /dune/dune-common/build-cmake/dune-env/lib/python3.10/site-packages (from dune-common<=2.9.0->pyikarus) (23.0.1)\n",
      "Requirement already satisfied: dune-localfunctions in /dune/dune-localfunctions/build-cmake/python (from dune-functions<=2.9.0->pyikarus) (2.9.0)\n",
      "Requirement already satisfied: pillow>=6.2.0 in /dune/dune-common/build-cmake/dune-env/lib/python3.10/site-packages (from matplotlib->pyikarus) (9.4.0)\n",
      "Requirement already satisfied: kiwisolver>=1.0.1 in /dune/dune-common/build-cmake/dune-env/lib/python3.10/site-packages (from matplotlib->pyikarus) (1.4.4)\n",
      "Requirement already satisfied: fonttools>=4.22.0 in /dune/dune-common/build-cmake/dune-env/lib/python3.10/site-packages (from matplotlib->pyikarus) (4.39.0)\n",
      "Requirement already satisfied: pyparsing>=2.3.1 in /dune/dune-common/build-cmake/dune-env/lib/python3.10/site-packages (from matplotlib->pyikarus) (3.0.9)\n",
      "Requirement already satisfied: cycler>=0.10 in /dune/dune-common/build-cmake/dune-env/lib/python3.10/site-packages (from matplotlib->pyikarus) (0.11.0)\n",
      "Requirement already satisfied: contourpy>=1.0.1 in /dune/dune-common/build-cmake/dune-env/lib/python3.10/site-packages (from matplotlib->pyikarus) (1.0.7)\n",
      "Requirement already satisfied: python-dateutil>=2.7 in /dune/dune-common/build-cmake/dune-env/lib/python3.10/site-packages (from matplotlib->pyikarus) (2.8.2)\n",
      "Requirement already satisfied: packaging>=20.0 in /dune/dune-common/build-cmake/dune-env/lib/python3.10/site-packages (from matplotlib->pyikarus) (23.0)\n",
      "Requirement already satisfied: six>=1.5 in /dune/dune-common/build-cmake/dune-env/lib/python3.10/site-packages (from python-dateutil>=2.7->matplotlib->pyikarus) (1.16.0)\n",
      "Requirement already satisfied: MarkupSafe>=2.0 in /dune/dune-common/build-cmake/dune-env/lib/python3.10/site-packages (from jinja2->dune-common<=2.9.0->pyikarus) (2.1.2)\n"
     ]
    }
   ],
   "source": [
    "!pip install scikit-build\n",
    "!pip install pyikarus  --no-build-isolation --verbose --upgrade\n"
   ]
  },
  {
   "attachments": {},
   "cell_type": "markdown",
   "metadata": {},
   "source": [
    "### Import all packages"
   ]
  },
  {
   "cell_type": "code",
   "execution_count": 54,
   "metadata": {},
   "outputs": [],
   "source": [
    "import matplotlib\n",
    "import dune.grid\n",
    "import dune.functions\n",
    "import pyikarus as iks\n",
    "import pyikarus.finite_elements\n",
    "import pyikarus.utils\n",
    "import pyikarus.assembler\n",
    "import pyikarus.dirichletValues\n",
    "import numpy as np\n",
    "import scipy as sp\n",
    "from dune.vtk import  vtkWriter\n"
   ]
  },
  {
   "attachments": {},
   "cell_type": "markdown",
   "metadata": {},
   "source": [
    "### Create grid"
   ]
  },
  {
   "cell_type": "code",
   "execution_count": 55,
   "metadata": {},
   "outputs": [
    {
     "data": {
      "image/png": "[encoded data removed]",
      "text/plain": [
       "<Figure size 640x480 with 1 Axes>"
      ]
     },
     "metadata": {},
     "output_type": "display_data"
    }
   ],
   "source": [
    "lowerLeft = [-1,-1]\n",
    "upperRight = [1,1]\n",
    "elements = [3,3]\n",
    "\n",
    "grid = dune.grid.structuredGrid(lowerLeft,upperRight,elements)\n",
    "grid.hierarchicalGrid.globalRefine(7)\n",
    "grid.plot()"
   ]
  },
  {
   "attachments": {},
   "cell_type": "markdown",
   "metadata": {},
   "source": [
    "### Add Lagrangian basis"
   ]
  },
  {
   "cell_type": "code",
   "execution_count": 56,
   "metadata": {},
   "outputs": [
    {
     "name": "stdout",
     "output_type": "stream",
     "text": [
      "We have 296450 dofs.\n",
      "We have 148225 vertices.\n",
      "We have 147456 elements.\n"
     ]
    }
   ],
   "source": [
    "basisLagrange1 = dune.functions.defaultGlobalBasis(grid, dune.functions.Power(dune.functions.Lagrange(order=1),2))\n",
    "print('We have {} dofs.'.format(len(basisLagrange1)))\n",
    "print('We have {} vertices.'.format(grid.size(2)))\n",
    "print('We have {} elements.'.format(grid.size(0)))"
   ]
  },
  {
   "attachments": {},
   "cell_type": "markdown",
   "metadata": {},
   "source": [
    "### Init load factor and displacement vector"
   ]
  },
  {
   "cell_type": "code",
   "execution_count": 57,
   "metadata": {},
   "outputs": [],
   "source": [
    "d = np.zeros(len(basisLagrange1))\n",
    "lambdaLoad = iks.ValueWrapper(3.0)"
   ]
  },
  {
   "attachments": {},
   "cell_type": "markdown",
   "metadata": {},
   "source": [
    "### Create finite element requirements"
   ]
  },
  {
   "cell_type": "code",
   "execution_count": 58,
   "metadata": {},
   "outputs": [],
   "source": [
    "req= iks.FErequirements()\n",
    "req.addAffordance(iks.ScalarAffordances.mechanicalPotentialEnergy)\n",
    "req.addAffordance(iks.VectorAffordances.forces)\n",
    "req.addAffordance(iks.MatrixAffordances.stiffness)\n",
    "\n",
    "req.insertParameter(iks.FEParameter.loadfactor,lambdaLoad)\n",
    "req.insertGlobalSolution(iks.FESolutions.displacement,d)"
   ]
  },
  {
   "attachments": {},
   "cell_type": "markdown",
   "metadata": {},
   "source": [
    "### Define volume load and boundary loads"
   ]
  },
  {
   "cell_type": "code",
   "execution_count": 59,
   "metadata": {},
   "outputs": [],
   "source": [
    "def volumeLoad(x,lambdaVal) :\n",
    "    return np.array([lambdaVal*x[0]*2*0, 2*lambdaVal*x[1]*0])\n",
    "\n",
    "def neumannLoad(x,lambdaVal) :\n",
    "    return np.array([lambdaVal*100, lambdaVal])\n",
    "\n",
    "neumannVertices = np.zeros(grid.size(2)*2, dtype=bool)\n",
    "basisLagrange1.interpolate(neumannVertices, lambda x :  True  if x[1]==1 else False)\n",
    "\n",
    "boundaryPatch = iks.utils.boundaryPatch(grid,neumannVertices)"
   ]
  },
  {
   "attachments": {},
   "cell_type": "markdown",
   "metadata": {},
   "source": [
    "### Create vector of finite elements"
   ]
  },
  {
   "cell_type": "code",
   "execution_count": 60,
   "metadata": {},
   "outputs": [],
   "source": [
    "fes = []\n",
    "for e in grid.elements:\n",
    "    fes.append(iks.finite_elements.linearElasticElement(basisLagrange1,e,1000,0.2,volumeLoad,boundaryPatch,neumannLoad))"
   ]
  },
  {
   "attachments": {},
   "cell_type": "markdown",
   "metadata": {},
   "source": [
    "### print forces and stiffness of first element"
   ]
  },
  {
   "cell_type": "code",
   "execution_count": 61,
   "metadata": {},
   "outputs": [
    {
     "name": "stdout",
     "output_type": "stream",
     "text": [
      "Forces:\n",
      " [0. 0. 0. 0. 0. 0. 0. 0.]\n",
      "Stiffness:\n",
      " [[ 486.111  156.25  -277.778  -52.083   34.722   52.083 -243.056 -156.25 ]\n",
      " [ 156.25   486.111   52.083   34.722  -52.083 -277.778 -156.25  -243.056]\n",
      " [-277.778   52.083  486.111 -156.25  -243.056  156.25    34.722  -52.083]\n",
      " [ -52.083   34.722 -156.25   486.111  156.25  -243.056   52.083 -277.778]\n",
      " [  34.722  -52.083 -243.056  156.25   486.111 -156.25  -277.778   52.083]\n",
      " [  52.083 -277.778  156.25  -243.056 -156.25   486.111  -52.083   34.722]\n",
      " [-243.056 -156.25    34.722   52.083 -277.778  -52.083  486.111  156.25 ]\n",
      " [-156.25  -243.056  -52.083 -277.778   52.083   34.722  156.25   486.111]]\n"
     ]
    }
   ],
   "source": [
    "forces = np.zeros(8)\n",
    "stiffness = np.zeros((8,8))\n",
    "fes[0].calculateVector(req,forces)\n",
    "fes[0].calculateMatrix(req,stiffness)\n",
    "np.set_printoptions(precision=3)\n",
    "print('Forces:\\n {}'.format(forces))\n",
    "print('Stiffness:\\n {}'.format(stiffness))"
   ]
  },
  {
   "attachments": {},
   "cell_type": "markdown",
   "metadata": {},
   "source": [
    "### Create Dirichlet boundary conditions"
   ]
  },
  {
   "cell_type": "code",
   "execution_count": 62,
   "metadata": {},
   "outputs": [],
   "source": [
    "dirichletValues = iks.dirichletValues.dirichletValues(basisLagrange1) \n",
    "\n",
    "def fixBottomEdge(vec,localIndex,localView,intersection):\n",
    "    if (intersection.geometry.center[1]==-1):\n",
    "        vec[localView.index(localIndex)]= True\n",
    "\n",
    "dirichletValues.fixBoundaryDOFsUsingLocalViewAndIntersection(fixBottomEdge)"
   ]
  },
  {
   "attachments": {},
   "cell_type": "markdown",
   "metadata": {},
   "source": [
    "### Create assembler"
   ]
  },
  {
   "cell_type": "code",
   "execution_count": 63,
   "metadata": {},
   "outputs": [],
   "source": [
    "assembler = iks.assembler.sparseFlatAssembler(fes,dirichletValues)\n",
    "#assemblerDense = iks.assembler.denseFlatAssembler(fes,dirichletValues)\n",
    "\n",
    "Msparse = assembler.getMatrix(req)\n",
    "forces = assembler.getVector(req)\n",
    "#print(Msparse)\n",
    "#print(forces)"
   ]
  },
  {
   "attachments": {},
   "cell_type": "markdown",
   "metadata": {},
   "source": [
    "### Solve for displacements and write to paraview"
   ]
  },
  {
   "cell_type": "code",
   "execution_count": 64,
   "metadata": {},
   "outputs": [],
   "source": [
    "d = sp.sparse.linalg.spsolve(Msparse,-forces)\n",
    "dispFunc = basisLagrange1.asFunction(d)\n",
    "\n",
    "writer = vtkWriter( grid, \"nameTest\",  pointData   = {( \"displacement\",(0,1)):dispFunc})"
   ]
  },
  {
   "attachments": {},
   "cell_type": "markdown",
   "metadata": {},
   "source": [
    "### Plot here using matplot lib"
   ]
  },
  {
   "cell_type": "code",
   "execution_count": 65,
   "metadata": {},
   "outputs": [
    {
     "data": {
      "image/png": "[encoded data removed]",
      "text/plain": [
       "<Figure size 640x480 with 2 Axes>"
      ]
     },
     "metadata": {},
     "output_type": "display_data"
    }
   ],
   "source": [
    "import dune.plotting\n",
    "dune.plotting.plot(solution=dispFunc)"
   ]
  }
 ],
 "metadata": {
  "kernelspec": {
   "display_name": "dune-env",
   "language": "python",
   "name": "python3"
  },
  "language_info": {
   "codemirror_mode": {
    "name": "ipython",
    "version": 3
   },
   "file_extension": ".py",
   "mimetype": "text/x-python",
   "name": "python",
   "nbconvert_exporter": "python",
   "pygments_lexer": "ipython3",
   "version": "3.10.9"
  },
  "orig_nbformat": 4
 },
 "nbformat": 4,
 "nbformat_minor": 2
}
